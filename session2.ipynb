{
  "nbformat": 4,
  "nbformat_minor": 0,
  "metadata": {
    "colab": {
      "provenance": []
    },
    "kernelspec": {
      "name": "python3",
      "display_name": "Python 3"
    },
    "language_info": {
      "name": "python"
    }
  },
  "cells": [
    {
      "cell_type": "code",
      "execution_count": null,
      "metadata": {
        "colab": {
          "base_uri": "https://localhost:8080/"
        },
        "id": "0TEu-1TQy4Xo",
        "outputId": "b27691d3-945a-49e5-9691-23a24d634dae"
      },
      "outputs": [
        {
          "output_type": "stream",
          "name": "stdout",
          "text": [
            "My Age =  30\n"
          ]
        }
      ],
      "source": [
        "print ( \"My Age = \" ,30)"
      ]
    },
    {
      "cell_type": "code",
      "source": [
        "MyName= \"Mohamed Atteya\"\n",
        "MyAge= 30\n",
        "MyJob= \" I am Running my Own Business\"\n",
        "MyKids= \"Fayrouz= 8 Years Old\""
      ],
      "metadata": {
        "id": "jo8UC7RN9t1l"
      },
      "execution_count": null,
      "outputs": []
    },
    {
      "cell_type": "code",
      "source": [
        "print (f\"Hello {MyName}  {MyAge} {MyJob} {MyKids}\")"
      ],
      "metadata": {
        "colab": {
          "base_uri": "https://localhost:8080/"
        },
        "id": "-AduGj2gecAj",
        "outputId": "6f8982e9-a698-4850-d90a-7b085bf6d227"
      },
      "execution_count": null,
      "outputs": [
        {
          "output_type": "stream",
          "name": "stdout",
          "text": [
            "Hello Mohamed Atteya  30  I am Running my Own Business Fayrouz= 8 Years Old\n"
          ]
        }
      ]
    },
    {
      "cell_type": "code",
      "source": [
        "a=\"Mohamed\"\n",
        "b=30\n",
        "c=3.0\n",
        "d=True"
      ],
      "metadata": {
        "id": "KgPUAUTCrSxm"
      },
      "execution_count": null,
      "outputs": []
    },
    {
      "cell_type": "code",
      "source": [
        "print(type(a))\n",
        "print(type(b))\n",
        "print(type(c))\n",
        "print(type(d))"
      ],
      "metadata": {
        "colab": {
          "base_uri": "https://localhost:8080/",
          "height": 193
        },
        "id": "K8166u2Irg1T",
        "outputId": "2b1553d4-b2c6-4be7-ad48-2a982fc3c56b"
      },
      "execution_count": 10,
      "outputs": [
        {
          "output_type": "error",
          "ename": "NameError",
          "evalue": "name 'a' is not defined",
          "traceback": [
            "\u001b[0;31m---------------------------------------------------------------------------\u001b[0m",
            "\u001b[0;31mNameError\u001b[0m                                 Traceback (most recent call last)",
            "\u001b[0;32m<ipython-input-10-ba03fb15b846>\u001b[0m in \u001b[0;36m<cell line: 1>\u001b[0;34m()\u001b[0m\n\u001b[0;32m----> 1\u001b[0;31m \u001b[0mprint\u001b[0m\u001b[0;34m(\u001b[0m\u001b[0mtype\u001b[0m\u001b[0;34m(\u001b[0m\u001b[0ma\u001b[0m\u001b[0;34m)\u001b[0m\u001b[0;34m)\u001b[0m\u001b[0;34m\u001b[0m\u001b[0;34m\u001b[0m\u001b[0m\n\u001b[0m\u001b[1;32m      2\u001b[0m \u001b[0mprint\u001b[0m\u001b[0;34m(\u001b[0m\u001b[0mtype\u001b[0m\u001b[0;34m(\u001b[0m\u001b[0mb\u001b[0m\u001b[0;34m)\u001b[0m\u001b[0;34m)\u001b[0m\u001b[0;34m\u001b[0m\u001b[0;34m\u001b[0m\u001b[0m\n\u001b[1;32m      3\u001b[0m \u001b[0mprint\u001b[0m\u001b[0;34m(\u001b[0m\u001b[0mtype\u001b[0m\u001b[0;34m(\u001b[0m\u001b[0mc\u001b[0m\u001b[0;34m)\u001b[0m\u001b[0;34m)\u001b[0m\u001b[0;34m\u001b[0m\u001b[0;34m\u001b[0m\u001b[0m\n\u001b[1;32m      4\u001b[0m \u001b[0mprint\u001b[0m\u001b[0;34m(\u001b[0m\u001b[0mtype\u001b[0m\u001b[0;34m(\u001b[0m\u001b[0md\u001b[0m\u001b[0;34m)\u001b[0m\u001b[0;34m)\u001b[0m\u001b[0;34m\u001b[0m\u001b[0;34m\u001b[0m\u001b[0m\n",
            "\u001b[0;31mNameError\u001b[0m: name 'a' is not defined"
          ]
        }
      ]
    },
    {
      "cell_type": "code",
      "source": [
        "x=[1,2,3,4,5,5]\n",
        "x[0]=6\n",
        "y=(1,2,3,4,5,5)\n",
        "z={\"key1\":1,\"key2\":10,\"key3\":100}\n",
        "mido={1,2,3,4,5,5,6}"
      ],
      "metadata": {
        "id": "GRufsKP04Rgz"
      },
      "execution_count": 16,
      "outputs": []
    },
    {
      "cell_type": "code",
      "source": [
        "print(x)\n",
        "print(type(x))\n",
        "print(y)\n",
        "print(type(y))\n",
        "print(z)\n",
        "print(type(z))\n"
      ],
      "metadata": {
        "colab": {
          "base_uri": "https://localhost:8080/"
        },
        "id": "3JBINr0z4cg6",
        "outputId": "8b03539d-f3b8-45ac-f42c-995642e8f3e7"
      },
      "execution_count": 18,
      "outputs": [
        {
          "output_type": "stream",
          "name": "stdout",
          "text": [
            "[6, 2, 3, 4, 5, 5]\n",
            "<class 'list'>\n",
            "(1, 2, 3, 4, 5, 5)\n",
            "<class 'tuple'>\n",
            "{'key1': 1, 'key2': 10, 'key3': 100}\n",
            "<class 'dict'>\n"
          ]
        }
      ]
    },
    {
      "cell_type": "code",
      "source": [
        "name=\"amit Learning atteya Learning \"\n",
        "print(name.upper())\n",
        "print(name.lower())\n",
        "print(name.capitalize())\n",
        "print(name.replace(\"amit\",\"hello\"))\n",
        "name=name.upper()\n",
        "name= name.split()\n",
        "\n",
        "print(name[0:20:3])\n",
        "print(name[-2])"
      ],
      "metadata": {
        "colab": {
          "base_uri": "https://localhost:8080/"
        },
        "id": "qWwgXIIPgMfG",
        "outputId": "1602690f-afed-4527-d7a0-27c499683eee"
      },
      "execution_count": 45,
      "outputs": [
        {
          "output_type": "stream",
          "name": "stdout",
          "text": [
            "AMIT LEARNING ATTEYA LEARNING \n",
            "amit learning atteya learning \n",
            "Amit learning atteya learning \n",
            "hello Learning atteya Learning \n",
            "['AMIT', 'LEARNING']\n",
            "ATTEYA\n"
          ]
        }
      ]
    },
    {
      "cell_type": "code",
      "source": [
        "fruits=[1,2,3,4,5,6,6,6,6,6,6,6,6,6,6,8]\n",
        "fruits[0]=0\n",
        "\n",
        "fruit=[\"apple\",\"banana\",\"watermelon\"]\n",
        "fruit[2]=fruits\n",
        "print(fruit)\n",
        "fruits.count(6)\n",
        "\n",
        "print(\"Hello \\n World\")\n",
        "print(\"Hello \\t World\")\n",
        "print(\"Hello \\t \\\"World\\\"\")"
      ],
      "metadata": {
        "colab": {
          "base_uri": "https://localhost:8080/"
        },
        "id": "KJbLJ5vd03JH",
        "outputId": "f1d63f59-0a64-4687-bb2a-24bffc154dc6"
      },
      "execution_count": 4,
      "outputs": [
        {
          "output_type": "stream",
          "name": "stdout",
          "text": [
            "['apple', 'banana', [0, 2, 3, 4, 5, 6, 6, 6, 6, 6, 6, 6, 6, 6, 6, 8]]\n",
            "Hello \n",
            " World\n",
            "Hello \t World\n",
            "Hello \t \"World\"\n"
          ]
        }
      ]
    },
    {
      "cell_type": "code",
      "source": [
        "tup=(5,6,7,8,9,10)\n",
        "print(type(tup))\n",
        "list(tup)"
      ],
      "metadata": {
        "colab": {
          "base_uri": "https://localhost:8080/"
        },
        "id": "zgnUbHtIuw7D",
        "outputId": "5d706136-4564-4a48-de41-be1a9526ffb3"
      },
      "execution_count": 7,
      "outputs": [
        {
          "output_type": "stream",
          "name": "stdout",
          "text": [
            "<class 'tuple'>\n"
          ]
        },
        {
          "output_type": "execute_result",
          "data": {
            "text/plain": [
              "[5, 6, 7, 8, 9, 10]"
            ]
          },
          "metadata": {},
          "execution_count": 7
        }
      ]
    },
    {
      "cell_type": "code",
      "source": [
        "tupm={\"key\":9,10:99,100:999}\n",
        "listm=list(tupm.items())\n",
        "print(listm)"
      ],
      "metadata": {
        "colab": {
          "base_uri": "https://localhost:8080/"
        },
        "id": "Xa5GGIGsvcCp",
        "outputId": "ac771d66-3a05-43bd-a1f7-f428cfee4bb6"
      },
      "execution_count": 19,
      "outputs": [
        {
          "output_type": "stream",
          "name": "stdout",
          "text": [
            "[('key', 9), (10, 99), (100, 999)]\n"
          ]
        }
      ]
    },
    {
      "cell_type": "code",
      "source": [
        "x=[1,2,3,4,5]\n",
        "\n",
        "x.append(\"zero\")\n",
        "print(x)\n",
        "\n",
        "x.insert(0,\"mido\")\n",
        "print(x)\n",
        "\n",
        "x.insert(5,[\"apple\",\"apple\"])\n",
        "print(x)\n",
        "\n",
        "x.extend([\"mazo\",\"tazo\"])\n",
        "print(x)\n",
        "\n",
        "x.extend({\"mazo\":222,\"tazo\":444})\n",
        "print(x)\n",
        "x.remove(\"tazo\")\n",
        "print(x.remove(\"tazo\"))\n",
        "\n",
        "print(x)\n",
        "x.pop(1)\n",
        "print(x.pop(1))\n",
        "print(x)\n",
        "print(x[3].remove(\"apple\"))\n",
        "x.pop(3)\n",
        "x.insert(3,[1501,[1502,1503,\"sara\"]])\n",
        "\n",
        "print(x)"
      ],
      "metadata": {
        "colab": {
          "base_uri": "https://localhost:8080/"
        },
        "id": "vIQ7EZTdHX5C",
        "outputId": "726549cd-e102-41a7-a1e6-75917e9aa193"
      },
      "execution_count": 84,
      "outputs": [
        {
          "output_type": "stream",
          "name": "stdout",
          "text": [
            "[1, 2, 3, 4, 5, 'zero']\n",
            "['mido', 1, 2, 3, 4, 5, 'zero']\n",
            "['mido', 1, 2, 3, 4, ['apple', 'apple'], 5, 'zero']\n",
            "['mido', 1, 2, 3, 4, ['apple', 'apple'], 5, 'zero', 'mazo', 'tazo']\n",
            "['mido', 1, 2, 3, 4, ['apple', 'apple'], 5, 'zero', 'mazo', 'tazo', 'mazo', 'tazo']\n",
            "None\n",
            "['mido', 1, 2, 3, 4, ['apple', 'apple'], 5, 'zero', 'mazo', 'mazo']\n",
            "2\n",
            "['mido', 3, 4, ['apple', 'apple'], 5, 'zero', 'mazo', 'mazo']\n",
            "None\n",
            "['mido', 3, 4, [1501, [1502, 1503, 'sara']], 5, 'zero', 'mazo', 'mazo']\n"
          ]
        }
      ]
    }
  ]
}